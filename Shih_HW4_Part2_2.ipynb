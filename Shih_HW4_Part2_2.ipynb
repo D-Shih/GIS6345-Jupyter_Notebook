{
 "cells": [
  {
   "cell_type": "code",
   "execution_count": 1,
   "metadata": {},
   "outputs": [],
   "source": [
    "# import ArcGIS API\n",
    "from arcgis.gis import GIS"
   ]
  },
  {
   "cell_type": "code",
   "execution_count": 2,
   "metadata": {},
   "outputs": [],
   "source": [
    "# create anonymous connection to ArcGIS Online\n",
    "gis = GIS()"
   ]
  },
  {
   "cell_type": "code",
   "execution_count": 3,
   "metadata": {},
   "outputs": [
    {
     "data": {
      "text/plain": [
       "arcgis.gis.GIS"
      ]
     },
     "execution_count": 3,
     "metadata": {},
     "output_type": "execute_result"
    }
   ],
   "source": [
    "# What object type is this?\n",
    "type(gis)"
   ]
  },
  {
   "cell_type": "code",
   "execution_count": 4,
   "metadata": {},
   "outputs": [],
   "source": [
    "# search for content, Boston's subway system, the MBTA\n",
    "public_content = gis.content.search(\"MBTA\", item_type=\"Feature Layer\", max_items=5)"
   ]
  },
  {
   "cell_type": "code",
   "execution_count": 5,
   "metadata": {},
   "outputs": [
    {
     "data": {
      "text/plain": [
       "list"
      ]
     },
     "execution_count": 5,
     "metadata": {},
     "output_type": "execute_result"
    }
   ],
   "source": [
    "# What object type is this?\n",
    "type(public_content)"
   ]
  },
  {
   "cell_type": "code",
   "execution_count": 6,
   "metadata": {},
   "outputs": [
    {
     "data": {
      "text/plain": [
       "[<Item title:\"Transit MBTA RT Lines\" type:Feature Layer Collection owner:brendan@encompasscre.com>,\n",
       " <Item title:\"Enriched_MBTA_Commuter_Rail_Centerpoint\" type:Feature Layer Collection owner:brearick_UMass_Amherst>,\n",
       " <Item title:\"MBTABusStops_WFL1\" type:Feature Layer Collection owner:andrewsylviaonline>,\n",
       " <Item title:\"Transit MBTA RT Stations\" type:Feature Layer Collection owner:brendan@encompasscre.com>,\n",
       " <Item title:\"Towns that Have Subway Stops\" type:Feature Layer Collection owner:zachary.burl>]"
      ]
     },
     "execution_count": 6,
     "metadata": {},
     "output_type": "execute_result"
    }
   ],
   "source": [
    "public_content"
   ]
  },
  {
   "cell_type": "code",
   "execution_count": 7,
   "metadata": {},
   "outputs": [
    {
     "data": {
      "text/html": [
       "<div class=\"item_container\" style=\"height: auto; overflow: hidden; border: 1px solid #cfcfcf; border-radius: 2px; background: #f6fafa; line-height: 1.21429em; padding: 10px;\">\n",
       "                    <div class=\"item_left\" style=\"width: 210px; float: left;\">\n",
       "                       <a href='https://www.arcgis.com/home/item.html?id=dab2da5c60734df78cd047a3bdd01126' target='_blank'>\n",
       "                        <img src='https://www.arcgis.com/sharing/rest//content/items/dab2da5c60734df78cd047a3bdd01126/info/thumbnail/ago_downloaded.png' class=\"itemThumbnail\">\n",
       "                       </a>\n",
       "                    </div>\n",
       "\n",
       "                    <div class=\"item_right\"     style=\"float: none; width: auto; overflow: hidden;\">\n",
       "                        <a href='https://www.arcgis.com/home/item.html?id=dab2da5c60734df78cd047a3bdd01126' target='_blank'><b>Transit MBTA RT Lines</b>\n",
       "                        </a>\n",
       "                        <br/>MBTA Commuter Rail Lines and Stations -<img src='https://www.arcgis.com/home/js/jsapi/esri/css/images/item_type_icons/featureshosted16.png' style=\"vertical-align:middle;\">Feature Layer Collection by brendan@encompasscre.com\n",
       "                        <br/>Last Modified: September 13, 2018\n",
       "                        <br/>0 comments, 977 views\n",
       "                    </div>\n",
       "                </div>\n",
       "                "
      ],
      "text/plain": [
       "<Item title:\"Transit MBTA RT Lines\" type:Feature Layer Collection owner:brendan@encompasscre.com>"
      ]
     },
     "metadata": {},
     "output_type": "display_data"
    },
    {
     "data": {
      "text/html": [
       "<div class=\"item_container\" style=\"height: auto; overflow: hidden; border: 1px solid #cfcfcf; border-radius: 2px; background: #f6fafa; line-height: 1.21429em; padding: 10px;\">\n",
       "                    <div class=\"item_left\" style=\"width: 210px; float: left;\">\n",
       "                       <a href='https://www.arcgis.com/home/item.html?id=56fdf8c14e3347fa996c6e4dd6c13188' target='_blank'>\n",
       "                        <img src='https://www.arcgis.com/sharing/rest//content/items/56fdf8c14e3347fa996c6e4dd6c13188/info/thumbnail/ago_downloaded.png' class=\"itemThumbnail\">\n",
       "                       </a>\n",
       "                    </div>\n",
       "\n",
       "                    <div class=\"item_right\"     style=\"float: none; width: auto; overflow: hidden;\">\n",
       "                        <a href='https://www.arcgis.com/home/item.html?id=56fdf8c14e3347fa996c6e4dd6c13188' target='_blank'><b>Enriched_MBTA_Commuter_Rail_Centerpoint</b>\n",
       "                        </a>\n",
       "                        <br/>Feature layer generated from Enrich layer<img src='https://www.arcgis.com/home/js/jsapi/esri/css/images/item_type_icons/featureshosted16.png' style=\"vertical-align:middle;\">Feature Layer Collection by brearick_UMass_Amherst\n",
       "                        <br/>Last Modified: February 26, 2020\n",
       "                        <br/>0 comments, 42 views\n",
       "                    </div>\n",
       "                </div>\n",
       "                "
      ],
      "text/plain": [
       "<Item title:\"Enriched_MBTA_Commuter_Rail_Centerpoint\" type:Feature Layer Collection owner:brearick_UMass_Amherst>"
      ]
     },
     "metadata": {},
     "output_type": "display_data"
    },
    {
     "data": {
      "text/html": [
       "<div class=\"item_container\" style=\"height: auto; overflow: hidden; border: 1px solid #cfcfcf; border-radius: 2px; background: #f6fafa; line-height: 1.21429em; padding: 10px;\">\n",
       "                    <div class=\"item_left\" style=\"width: 210px; float: left;\">\n",
       "                       <a href='https://www.arcgis.com/home/item.html?id=5df0c03c88dc46d6ac0ba32a275762d6' target='_blank'>\n",
       "                        <img src='https://www.arcgis.com/sharing/rest//content/items/5df0c03c88dc46d6ac0ba32a275762d6/info/thumbnail/thumbnail.png' class=\"itemThumbnail\">\n",
       "                       </a>\n",
       "                    </div>\n",
       "\n",
       "                    <div class=\"item_right\"     style=\"float: none; width: auto; overflow: hidden;\">\n",
       "                        <a href='https://www.arcgis.com/home/item.html?id=5df0c03c88dc46d6ac0ba32a275762d6' target='_blank'><b>MBTABusStops_WFL1</b>\n",
       "                        </a>\n",
       "                        <br/>MBTA Bus stop<img src='https://www.arcgis.com/home/js/jsapi/esri/css/images/item_type_icons/featureshosted16.png' style=\"vertical-align:middle;\">Feature Layer Collection by andrewsylviaonline\n",
       "                        <br/>Last Modified: March 29, 2017\n",
       "                        <br/>0 comments, 13 views\n",
       "                    </div>\n",
       "                </div>\n",
       "                "
      ],
      "text/plain": [
       "<Item title:\"MBTABusStops_WFL1\" type:Feature Layer Collection owner:andrewsylviaonline>"
      ]
     },
     "metadata": {},
     "output_type": "display_data"
    },
    {
     "data": {
      "text/html": [
       "<div class=\"item_container\" style=\"height: auto; overflow: hidden; border: 1px solid #cfcfcf; border-radius: 2px; background: #f6fafa; line-height: 1.21429em; padding: 10px;\">\n",
       "                    <div class=\"item_left\" style=\"width: 210px; float: left;\">\n",
       "                       <a href='https://www.arcgis.com/home/item.html?id=eeff56f351e34a5596e15aae82320d3a' target='_blank'>\n",
       "                        <img src='https://www.arcgis.com/sharing/rest//content/items/eeff56f351e34a5596e15aae82320d3a/info/thumbnail/ago_downloaded.png' class=\"itemThumbnail\">\n",
       "                       </a>\n",
       "                    </div>\n",
       "\n",
       "                    <div class=\"item_right\"     style=\"float: none; width: auto; overflow: hidden;\">\n",
       "                        <a href='https://www.arcgis.com/home/item.html?id=eeff56f351e34a5596e15aae82320d3a' target='_blank'><b>Transit MBTA RT Stations</b>\n",
       "                        </a>\n",
       "                        <br/>MBTA Rapid Transit Lines and Stations -<img src='https://www.arcgis.com/home/js/jsapi/esri/css/images/item_type_icons/featureshosted16.png' style=\"vertical-align:middle;\">Feature Layer Collection by brendan@encompasscre.com\n",
       "                        <br/>Last Modified: September 13, 2018\n",
       "                        <br/>0 comments, 993 views\n",
       "                    </div>\n",
       "                </div>\n",
       "                "
      ],
      "text/plain": [
       "<Item title:\"Transit MBTA RT Stations\" type:Feature Layer Collection owner:brendan@encompasscre.com>"
      ]
     },
     "metadata": {},
     "output_type": "display_data"
    },
    {
     "data": {
      "text/html": [
       "<div class=\"item_container\" style=\"height: auto; overflow: hidden; border: 1px solid #cfcfcf; border-radius: 2px; background: #f6fafa; line-height: 1.21429em; padding: 10px;\">\n",
       "                    <div class=\"item_left\" style=\"width: 210px; float: left;\">\n",
       "                       <a href='https://www.arcgis.com/home/item.html?id=415c9d41b4214072abda9dfc604e4a1c' target='_blank'>\n",
       "                        <img src='https://www.arcgis.com/sharing/rest//content/items/415c9d41b4214072abda9dfc604e4a1c/info/thumbnail/ago_downloaded.png' class=\"itemThumbnail\">\n",
       "                       </a>\n",
       "                    </div>\n",
       "\n",
       "                    <div class=\"item_right\"     style=\"float: none; width: auto; overflow: hidden;\">\n",
       "                        <a href='https://www.arcgis.com/home/item.html?id=415c9d41b4214072abda9dfc604e4a1c' target='_blank'><b>Towns that Have Subway Stops</b>\n",
       "                        </a>\n",
       "                        <br/>Analysis Feature Service generated from Find Existing Locations<img src='https://www.arcgis.com/home/js/jsapi/esri/css/images/item_type_icons/featureshosted16.png' style=\"vertical-align:middle;\">Feature Layer Collection by zachary.burl\n",
       "                        <br/>Last Modified: December 08, 2016\n",
       "                        <br/>0 comments, 68 views\n",
       "                    </div>\n",
       "                </div>\n",
       "                "
      ],
      "text/plain": [
       "<Item title:\"Towns that Have Subway Stops\" type:Feature Layer Collection owner:zachary.burl>"
      ]
     },
     "metadata": {},
     "output_type": "display_data"
    }
   ],
   "source": [
    "# Import ArcGIS API for Python to display ArcGIS items in HTML format\n",
    "from IPython.display import display\n",
    "for item in public_content:\n",
    "    display(item)"
   ]
  },
  {
   "cell_type": "code",
   "execution_count": 8,
   "metadata": {},
   "outputs": [],
   "source": [
    "# Display layers on map using map widget\n",
    "# I want to select the first one, as it seems to be what I want\n",
    "example_item = public_content[0]"
   ]
  },
  {
   "cell_type": "code",
   "execution_count": 9,
   "metadata": {},
   "outputs": [
    {
     "data": {
      "text/plain": [
       "arcgis.gis.Item"
      ]
     },
     "execution_count": 9,
     "metadata": {},
     "output_type": "execute_result"
    }
   ],
   "source": [
    "# What object type is this\n",
    "type(example_item)"
   ]
  },
  {
   "cell_type": "code",
   "execution_count": 10,
   "metadata": {},
   "outputs": [
    {
     "data": {
      "text/plain": [
       "{'_portal': <arcgis.gis._impl._portalpy.Portal at 0x23f6ad3f160>,\n",
       " '_gis': GIS @ https://www.arcgis.com version:8.3,\n",
       " 'itemid': 'dab2da5c60734df78cd047a3bdd01126',\n",
       " 'thumbnail': 'thumbnail/ago_downloaded.png',\n",
       " '_workdir': 'C:\\\\Users\\\\dshih\\\\AppData\\\\Local\\\\Temp',\n",
       " '_hydrated': False,\n",
       " 'id': 'dab2da5c60734df78cd047a3bdd01126',\n",
       " 'owner': 'brendan@encompasscre.com',\n",
       " 'created': 1525144952000,\n",
       " 'modified': 1536864743000,\n",
       " 'guid': None,\n",
       " 'name': None,\n",
       " 'title': 'Transit MBTA RT Lines',\n",
       " 'type': 'Feature Service',\n",
       " 'typeKeywords': ['ArcGIS Server',\n",
       "  'Data',\n",
       "  'Feature Access',\n",
       "  'Feature Service',\n",
       "  'Service',\n",
       "  'Singlelayer'],\n",
       " 'description': 'MBTA Rapid Transit Lines and Stations - Massachusetts ONLY',\n",
       " 'tags': ['MBTA', 'RT', 'Lines', 'Transit'],\n",
       " 'snippet': 'MBTA Commuter Rail Lines and Stations -',\n",
       " 'documentation': None,\n",
       " 'extent': [[-71.2531, 42.2075], [-70.9911, 42.438]],\n",
       " 'categories': [],\n",
       " 'spatialReference': None,\n",
       " 'accessInformation': None,\n",
       " 'licenseInfo': None,\n",
       " 'culture': 'en-us',\n",
       " 'properties': None,\n",
       " 'url': 'https://services1.arcgis.com/EFYIRUToGCsM2IHN/arcgis/rest/services/MBTA_Rapid_Transit/FeatureServer',\n",
       " 'proxyFilter': None,\n",
       " 'access': 'public',\n",
       " 'appCategories': [],\n",
       " 'industries': [],\n",
       " 'languages': [],\n",
       " 'largeThumbnail': None,\n",
       " 'banner': None,\n",
       " 'screenshots': [],\n",
       " 'listed': False,\n",
       " 'numComments': 0,\n",
       " 'numRatings': 0,\n",
       " 'avgRating': 0,\n",
       " 'numViews': 977,\n",
       " 'scoreCompleteness': 68,\n",
       " 'groupDesignations': None,\n",
       " '_depend': <Dependencies for dab2da5c60734df78cd047a3bdd01126>,\n",
       " 'layers': None,\n",
       " 'tables': None}"
      ]
     },
     "execution_count": 10,
     "metadata": {},
     "output_type": "execute_result"
    }
   ],
   "source": [
    "# Item attributes use __dict__ \n",
    "example_item.__dict__"
   ]
  },
  {
   "cell_type": "code",
   "execution_count": 11,
   "metadata": {},
   "outputs": [
    {
     "data": {
      "text/plain": [
       "[<FeatureLayer url:\"https://services1.arcgis.com/EFYIRUToGCsM2IHN/arcgis/rest/services/MBTA_Rapid_Transit/FeatureServer/1\">,\n",
       " <FeatureLayer url:\"https://services1.arcgis.com/EFYIRUToGCsM2IHN/arcgis/rest/services/MBTA_Rapid_Transit/FeatureServer/2\">]"
      ]
     },
     "execution_count": 11,
     "metadata": {},
     "output_type": "execute_result"
    }
   ],
   "source": [
    "# Initial attempt, after adding the example_item, the layer did not look correct\n",
    "# It showed the train stops and not the different colored train lines\n",
    "# There are two layers in this item\n",
    "# Display layers in item\n",
    "example_item.layers"
   ]
  },
  {
   "cell_type": "code",
   "execution_count": 12,
   "metadata": {},
   "outputs": [],
   "source": [
    "# Create a new variable for the layer I want to display, at index [1]\n",
    "example_item_layer = example_item.layers[1]"
   ]
  },
  {
   "cell_type": "code",
   "execution_count": 13,
   "metadata": {},
   "outputs": [
    {
     "data": {
      "text/plain": [
       "arcgis.features.layer.FeatureLayer"
      ]
     },
     "execution_count": 13,
     "metadata": {},
     "output_type": "execute_result"
    }
   ],
   "source": [
    "# What object type is this?\n",
    "type(example_item_layer)"
   ]
  },
  {
   "cell_type": "code",
   "execution_count": 14,
   "metadata": {},
   "outputs": [],
   "source": [
    "#Create a new map object\n",
    "map1 = gis.map()"
   ]
  },
  {
   "cell_type": "code",
   "execution_count": 15,
   "metadata": {},
   "outputs": [
    {
     "data": {
      "text/plain": [
       "arcgis.widgets._mapview._mapview.MapView"
      ]
     },
     "execution_count": 15,
     "metadata": {},
     "output_type": "execute_result"
    }
   ],
   "source": [
    "# What object type is this?\n",
    "type(map1)"
   ]
  },
  {
   "cell_type": "code",
   "execution_count": 16,
   "metadata": {},
   "outputs": [],
   "source": [
    "#Focus the map to the part of the world containing the example item\n",
    "map1.extent = example_item.extent"
   ]
  },
  {
   "cell_type": "code",
   "execution_count": 17,
   "metadata": {},
   "outputs": [],
   "source": [
    "# Add layer to map. First attempt, add Item, did not look right as it added\n",
    "# the location of each train station instead of the colored lines for each train line\n",
    "# map1.add_layer(example_item)\n",
    "# Add layer to map - second attempt, add the layer only.\n",
    "map1.add_layer(example_item_layer)"
   ]
  },
  {
   "cell_type": "code",
   "execution_count": 18,
   "metadata": {},
   "outputs": [
    {
     "data": {
      "application/vnd.jupyter.widget-view+json": {
       "model_id": "4550d62072ed4ec7940e452f0cdf6c65",
       "version_major": 2,
       "version_minor": 0
      },
      "text/plain": [
       "MapView(layout=Layout(height='400px', width='100%'))"
      ]
     },
     "metadata": {},
     "output_type": "display_data"
    },
    {
     "data": {
      "text/html": [
       "<div class=\"map-static-img-preview-6c9dbd02-7498-47cb-82d3-c8100b5d2bd0\"><img src=\"\"></img></div>"
      ],
      "text/plain": [
       "<IPython.core.display.HTML object>"
      ]
     },
     "metadata": {},
     "output_type": "display_data"
    }
   ],
   "source": [
    "# display map with added layer\n",
    "# Need to zoom in to see the lines\n",
    "map1"
   ]
  },
  {
   "cell_type": "code",
   "execution_count": null,
   "metadata": {},
   "outputs": [],
   "source": []
  }
 ],
 "metadata": {
  "kernelspec": {
   "display_name": "Python 3",
   "language": "python",
   "name": "python3"
  },
  "language_info": {
   "codemirror_mode": {
    "name": "ipython",
    "version": 3
   },
   "file_extension": ".py",
   "mimetype": "text/x-python",
   "name": "python",
   "nbconvert_exporter": "python",
   "pygments_lexer": "ipython3",
   "version": "3.6.10"
  }
 },
 "nbformat": 4,
 "nbformat_minor": 4
}
